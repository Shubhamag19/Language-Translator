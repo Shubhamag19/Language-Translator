{
  "nbformat": 4,
  "nbformat_minor": 0,
  "metadata": {
    "colab": {
      "name": "French_Translator.ipynb",
      "provenance": [],
      "toc_visible": true
    },
    "kernelspec": {
      "name": "python3",
      "display_name": "Python 3"
    },
    "accelerator": "GPU"
  },
  "cells": [
    {
      "cell_type": "code",
      "metadata": {
        "id": "bXvShNaUqQzx",
        "colab_type": "code",
        "colab": {}
      },
      "source": [
        "import collections\n",
        "import tensorflow as tf\n",
        "import numpy as np\n",
        "\n",
        "from keras.preprocessing.text import Tokenizer\n",
        "from keras.preprocessing.sequence import pad_sequences\n",
        "from keras.models import Model, Sequential\n",
        "from keras.layers import GRU, Input, Dense, TimeDistributed, Activation, RepeatVector, Bidirectional, Dropout, LSTM\n",
        "from keras.layers.embeddings import Embedding\n",
        "from keras.optimizers import Adam\n",
        "from keras.losses import sparse_categorical_crossentropy"
      ],
      "execution_count": 0,
      "outputs": []
    },
    {
      "cell_type": "code",
      "metadata": {
        "id": "LWkyA8hzrAel",
        "colab_type": "code",
        "colab": {}
      },
      "source": [
        "import os\n",
        "def load_data(path):\n",
        "    \"\"\"\n",
        "    Load dataset\n",
        "    \"\"\"\n",
        "    input_file = os.path.join(path)\n",
        "    with open(input_file, \"r\") as f:\n",
        "        data = f.read()\n",
        "\n",
        "    return data.split('\\n')"
      ],
      "execution_count": 0,
      "outputs": []
    },
    {
      "cell_type": "code",
      "metadata": {
        "id": "R3HHeZnYrKcb",
        "colab_type": "code",
        "colab": {}
      },
      "source": [
        "# Loading English data\n",
        "english_sentences = load_data('/content/drive/My Drive/Colab Notebooks/data/small_vocab_en')\n",
        "# Loading French data\n",
        "french_sentences = load_data('/content/drive/My Drive/Colab Notebooks/data/small_vocab_fr')"
      ],
      "execution_count": 0,
      "outputs": []
    },
    {
      "cell_type": "code",
      "metadata": {
        "id": "a8Wpw757o_Ut",
        "colab_type": "code",
        "colab": {}
      },
      "source": [
        "import pickle\n",
        "\n",
        "def tokenize(x):\n",
        "    tokenizer = Tokenizer()\n",
        "    tokenizer.fit_on_texts(x)\n",
        "    # saving the tokens\n",
        "    with open('tokenizer.pickle', 'wb') as handle:\n",
        "        pickle.dump(tokenizer, handle, protocol=pickle.HIGHEST_PROTOCOL)\n",
        "    return tokenizer.texts_to_sequences(x), tokenizer\n",
        "ts = ['']\n",
        "ts_tokenized, ts_tokenizer = tokenize(ts)"
      ],
      "execution_count": 0,
      "outputs": []
    },
    {
      "cell_type": "code",
      "metadata": {
        "id": "pXB4_XptpEMm",
        "colab_type": "code",
        "colab": {}
      },
      "source": [
        "def toke(x):\n",
        "    # loading the saved token\n",
        "    with open('tokenizer.pickle', 'rb') as handle:\n",
        "        tokenizer = pickle.load(handle)\n",
        "    tokenizer.fit_on_texts(x)\n",
        "    return tokenizer.texts_to_sequences(x), tokenizer"
      ],
      "execution_count": 0,
      "outputs": []
    },
    {
      "cell_type": "code",
      "metadata": {
        "id": "Zhtd2hc9nJm3",
        "colab_type": "code",
        "colab": {}
      },
      "source": [
        "def tokenize_y(x):\n",
        "    tokenizer = Tokenizer()\n",
        "    tokenizer.fit_on_texts(x)\n",
        "    return tokenizer.texts_to_sequences(x), tokenizer"
      ],
      "execution_count": 0,
      "outputs": []
    },
    {
      "cell_type": "code",
      "metadata": {
        "id": "zocJdObLry9o",
        "colab_type": "code",
        "colab": {}
      },
      "source": [
        "def pad(x, length=None):\n",
        "   \n",
        "    return pad_sequences(x, maxlen=length, padding='post')"
      ],
      "execution_count": 0,
      "outputs": []
    },
    {
      "cell_type": "code",
      "metadata": {
        "id": "OsTf-97ar258",
        "colab_type": "code",
        "colab": {}
      },
      "source": [
        "def preprocess(x, y):\n",
        "    \n",
        "    preprocess_x, x_tk = tokenize(x)\n",
        "    preprocess_y, y_tk = tokenize_y(y)\n",
        "\n",
        "    preprocess_x = pad(preprocess_x)\n",
        "    preprocess_y = pad(preprocess_y)\n",
        "\n",
        "    preprocess_y = preprocess_y.reshape(*preprocess_y.shape, 1)\n",
        "\n",
        "    return preprocess_x, preprocess_y, x_tk, y_tk\n",
        "\n",
        "preproc_english_sentences, preproc_french_sentences, english_tokenizer, french_tokenizer =\\\n",
        "    preprocess(english_sentences, french_sentences)"
      ],
      "execution_count": 0,
      "outputs": []
    },
    {
      "cell_type": "code",
      "metadata": {
        "id": "E_YGM_Jor6yx",
        "colab_type": "code",
        "colab": {}
      },
      "source": [
        "def logits_to_text(logits, tokenizer):\n",
        "    \n",
        "    index_to_words = {id: word for word, id in tokenizer.word_index.items()}\n",
        "    index_to_words[0] = '<PAD>'\n",
        "\n",
        "    return ' '.join([index_to_words[prediction] for prediction in np.argmax(logits, 1)])"
      ],
      "execution_count": 0,
      "outputs": []
    },
    {
      "cell_type": "code",
      "metadata": {
        "id": "Rw-i81Ai_fuA",
        "colab_type": "code",
        "outputId": "66478f2d-0b24-4b56-9e07-03033adc6a99",
        "colab": {
          "base_uri": "https://localhost:8080/",
          "height": 717
        }
      },
      "source": [
        "def embed_model(input_shape, output_sequence_length, english_vocab_size, french_vocab_size):\n",
        "\n",
        "    # Hyperparameters\n",
        "    learning_rate = 0.005\n",
        "    \n",
        "    # Building the layers\n",
        "    model = Sequential()\n",
        "    model.add(Embedding(english_vocab_size, 256, input_length=input_shape[1], input_shape=input_shape[1:]))\n",
        "    model.add(GRU(256, return_sequences=True))    \n",
        "    model.add(TimeDistributed(Dense(1024, activation='relu')))\n",
        "    model.add(Dropout(0.5))\n",
        "    model.add(TimeDistributed(Dense(french_vocab_size, activation='softmax'))) \n",
        "\n",
        "    # Compiling the model\n",
        "    model.compile(loss=sparse_categorical_crossentropy,\n",
        "                  optimizer=Adam(learning_rate),\n",
        "                  metrics=['accuracy'])\n",
        "    return model\n",
        "\n",
        "# Reshaping the input\n",
        "tmp_x = pad(preproc_english_sentences, preproc_french_sentences.shape[1])\n",
        "tmp_x = tmp_x.reshape((-1, preproc_french_sentences.shape[-2]))\n",
        "\n",
        "# TODO: Train the neural network\n",
        "embed_rnn_model = embed_model(\n",
        "    tmp_x.shape,\n",
        "    preproc_french_sentences.shape[1],\n",
        "    len(english_tokenizer.word_index)+1,\n",
        "    len(french_tokenizer.word_index)+1)\n",
        "\n",
        "embed_rnn_model.summary()\n",
        "\n",
        "embed_rnn_model.fit(tmp_x, preproc_french_sentences, batch_size=1024, epochs=10, validation_split=0.2)"
      ],
      "execution_count": 149,
      "outputs": [
        {
          "output_type": "stream",
          "text": [
            "Model: \"sequential_5\"\n",
            "_________________________________________________________________\n",
            "Layer (type)                 Output Shape              Param #   \n",
            "=================================================================\n",
            "embedding_5 (Embedding)      (None, 21, 256)           51200     \n",
            "_________________________________________________________________\n",
            "gru_5 (GRU)                  (None, 21, 256)           393984    \n",
            "_________________________________________________________________\n",
            "time_distributed_9 (TimeDist (None, 21, 1024)          263168    \n",
            "_________________________________________________________________\n",
            "dropout_5 (Dropout)          (None, 21, 1024)          0         \n",
            "_________________________________________________________________\n",
            "time_distributed_10 (TimeDis (None, 21, 345)           353625    \n",
            "=================================================================\n",
            "Total params: 1,061,977\n",
            "Trainable params: 1,061,977\n",
            "Non-trainable params: 0\n",
            "_________________________________________________________________\n",
            "Train on 110288 samples, validate on 27573 samples\n",
            "Epoch 1/10\n",
            "110288/110288 [==============================] - 11s 97us/step - loss: 1.3218 - acc: 0.6859 - val_loss: 0.4560 - val_acc: 0.8518\n",
            "Epoch 2/10\n",
            "110288/110288 [==============================] - 9s 81us/step - loss: 0.3855 - acc: 0.8742 - val_loss: 0.2899 - val_acc: 0.9027\n",
            "Epoch 3/10\n",
            "110288/110288 [==============================] - 9s 81us/step - loss: 0.2745 - acc: 0.9082 - val_loss: 0.2308 - val_acc: 0.9208\n",
            "Epoch 4/10\n",
            "110288/110288 [==============================] - 9s 81us/step - loss: 0.2322 - acc: 0.9210 - val_loss: 0.2069 - val_acc: 0.9289\n",
            "Epoch 5/10\n",
            "110288/110288 [==============================] - 9s 83us/step - loss: 0.2126 - acc: 0.9267 - val_loss: 0.1986 - val_acc: 0.9313\n",
            "Epoch 6/10\n",
            "110288/110288 [==============================] - 9s 83us/step - loss: 0.2032 - acc: 0.9293 - val_loss: 0.1934 - val_acc: 0.9323\n",
            "Epoch 7/10\n",
            "110288/110288 [==============================] - 9s 83us/step - loss: 0.1934 - acc: 0.9322 - val_loss: 0.1855 - val_acc: 0.9347\n",
            "Epoch 8/10\n",
            "110288/110288 [==============================] - 9s 83us/step - loss: 0.1868 - acc: 0.9339 - val_loss: 0.1821 - val_acc: 0.9358\n",
            "Epoch 9/10\n",
            "110288/110288 [==============================] - 9s 81us/step - loss: 0.1805 - acc: 0.9358 - val_loss: 0.1808 - val_acc: 0.9369\n",
            "Epoch 10/10\n",
            "110288/110288 [==============================] - 9s 81us/step - loss: 0.1781 - acc: 0.9364 - val_loss: 0.1832 - val_acc: 0.9358\n"
          ],
          "name": "stdout"
        },
        {
          "output_type": "execute_result",
          "data": {
            "text/plain": [
              "<keras.callbacks.History at 0x7f18644c3f98>"
            ]
          },
          "metadata": {
            "tags": []
          },
          "execution_count": 149
        }
      ]
    },
    {
      "cell_type": "code",
      "metadata": {
        "id": "thT5vZo8zN10",
        "colab_type": "code",
        "colab": {}
      },
      "source": [
        "# Saving the model\n",
        "embed_rnn_model.save('model.h5')\n",
        "# and reloading it with:\n",
        "reloaded_model = tf.keras.models.load_model('model.h5')"
      ],
      "execution_count": 0,
      "outputs": []
    },
    {
      "cell_type": "code",
      "metadata": {
        "id": "c5Y_o5RcKeJ2",
        "colab_type": "code",
        "colab": {}
      },
      "source": [
        "def prep(x):\n",
        "    \n",
        "    preprocess_x, x_tk = toke(x)\n",
        "    preprocess_x = pad(preprocess_x)\n",
        "\n",
        "    return preprocess_x, x_tk"
      ],
      "execution_count": 0,
      "outputs": []
    },
    {
      "cell_type": "code",
      "metadata": {
        "id": "AsefhzYH_-7J",
        "colab_type": "code",
        "outputId": "c5bee04a-3056-4e98-cc77-e8fe7cf7356d",
        "colab": {
          "base_uri": "https://localhost:8080/",
          "height": 88
        }
      },
      "source": [
        "sente = ['how are you']\n",
        "print('In english: ', sente)\n",
        "\n",
        "preproc_sente, english_tokenizer = prep(sente)\n",
        "\n",
        "tx = pad(preproc_sente, preproc_french_sentences.shape[1])\n",
        "tx = tx.reshape((-1, preproc_french_sentences.shape[-2]))\n",
        "\n",
        "logi = reloaded_model.predict(tx[:1])[0]\n",
        "print(\"Prediction to French:\")\n",
        "print(logits_to_text(logi, french_tokenizer))"
      ],
      "execution_count": 152,
      "outputs": [
        {
          "output_type": "stream",
          "text": [
            "In english:  ['how are you']\n",
            "Prediction to French:\n",
            "comment sont vous <PAD> <PAD> <PAD> <PAD> <PAD> <PAD> <PAD> <PAD> <PAD> <PAD> <PAD> <PAD> <PAD> <PAD> <PAD> <PAD> <PAD> <PAD>\n"
          ],
          "name": "stdout"
        }
      ]
    },
    {
      "cell_type": "code",
      "metadata": {
        "id": "MheSc9fx_VpV",
        "colab_type": "code",
        "colab": {}
      },
      "source": [
        ""
      ],
      "execution_count": 0,
      "outputs": []
    }
  ]
}